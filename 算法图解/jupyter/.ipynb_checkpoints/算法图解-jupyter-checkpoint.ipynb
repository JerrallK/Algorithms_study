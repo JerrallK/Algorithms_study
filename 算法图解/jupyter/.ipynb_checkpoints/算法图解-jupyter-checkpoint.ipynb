{
 "cells": [
  {
   "cell_type": "markdown",
   "metadata": {},
   "source": [
    "- 带权重的图称为加权图（weighted graph），\n",
    "- 不带权重的图称为非加权图（unweighted graph）\n",
    "\n",
    "- 要计算非加权图中的最短路径，可使用广度优先搜索。要计算\n",
    "- 加权图中的最短路径，可使用狄克斯特拉算法。\n",
    "\n",
    "- 有向图：每个顶点间是有方向的\n",
    "- 无向图：顶点间直线连接，相当于两个节点指向彼此，其实就是每条边就是一个环！\n",
    "\n",
    "dijskstra算法只适用于有向无环图  directed acyclic graph：DAG\n",
    "![jupyter](./map.PNG)\n"
   ]
  },
  {
   "cell_type": "code",
   "execution_count": 1,
   "metadata": {},
   "outputs": [
    {
     "data": {
      "text/plain": [
       "['.ipynb_checkpoints', 'map.PNG', '算法图解-jupyter.ipynb']"
      ]
     },
     "execution_count": 1,
     "metadata": {},
     "output_type": "execute_result"
    }
   ],
   "source": [
    "import os\n",
    "os.listdir('.')"
   ]
  },
  {
   "cell_type": "code",
   "execution_count": null,
   "metadata": {},
   "outputs": [],
   "source": []
  }
 ],
 "metadata": {
  "kernelspec": {
   "display_name": "Python 3",
   "language": "python",
   "name": "python3"
  },
  "language_info": {
   "codemirror_mode": {
    "name": "ipython",
    "version": 3
   },
   "file_extension": ".py",
   "mimetype": "text/x-python",
   "name": "python",
   "nbconvert_exporter": "python",
   "pygments_lexer": "ipython3",
   "version": "3.7.3"
  }
 },
 "nbformat": 4,
 "nbformat_minor": 1
}
